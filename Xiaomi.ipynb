{
 "cells": [
  {
   "cell_type": "code",
   "execution_count": 21,
   "id": "832a7dc4-aa64-4bca-aeff-ed9f121b3da9",
   "metadata": {},
   "outputs": [
    {
     "name": "stdin",
     "output_type": "stream",
     "text": [
      " 3\n",
      " 5 3\n",
      " 0 0 4\n",
      " 0 1 2\n",
      " 1 0 1\n",
      " 0 2 3\n",
      " 1 2 1\n"
     ]
    },
    {
     "name": "stdout",
     "output_type": "stream",
     "text": [
      "[[1. 4. 1.]\n",
      " [1. 2. 1.]\n",
      " [3. 3. 1.]]\n"
     ]
    }
   ],
   "source": [
    "import numpy as np\n",
    "\n",
    "class Solution:\n",
    "    def matrixSum(self, n, operations):\n",
    "        # Write Code Here\n",
    "        num = 0\n",
    "        mat = np.zeros((n,n))\n",
    "        while num<len(operations):\n",
    "            ope_here = operations[num]\n",
    "            #ope_here.append(operations[num])\n",
    "            #ope_here.append(operations[num+1])\n",
    "            #ope_here.append(operations[num+2])\n",
    "            idx = int(ope_here[1])\n",
    "            val = ope_here[2]\n",
    "            if ope_here[0] == 0:\n",
    "                mat[idx] = val\n",
    "            if ope_here[0] == 1:\n",
    "                for row in mat:\n",
    "                    #row = int(row)\n",
    "                    row[idx] = val\n",
    "            num+=1\n",
    "        sum = np.sum(mat)\n",
    "        return mat\n",
    "\n",
    "n = int(input())\n",
    "\n",
    "operations_rows, operations_cols = list(map(int, input().split()))\n",
    "\n",
    "operations = []\n",
    "for operations_i in range(operations_rows):\n",
    "    operations.append(list(map(int, input().split())))\n",
    "\n",
    "\n",
    "s = Solution()\n",
    "res = s.matrixSum(n, operations)\n",
    "\n",
    "print(res)\n"
   ]
  },
  {
   "cell_type": "code",
   "execution_count": 18,
   "id": "962ed20b-3a51-447c-9d17-37042d469ba0",
   "metadata": {},
   "outputs": [
    {
     "data": {
      "text/plain": [
       "array([[0., 0., 0.],\n",
       "       [0., 0., 0.],\n",
       "       [0., 0., 0.]])"
      ]
     },
     "execution_count": 18,
     "metadata": {},
     "output_type": "execute_result"
    }
   ],
   "source": [
    " 3\n",
    " 5 3\n",
    " 0 0 4\n",
    " 0 1 2\n",
    " 1 0 1\n",
    " 0 2 3\n",
    " 1 2 1"
   ]
  },
  {
   "cell_type": "code",
   "execution_count": 3,
   "id": "d3bdefdf-9e21-4e46-8b6e-e232ead92863",
   "metadata": {},
   "outputs": [
    {
     "data": {
      "text/plain": [
       "array([[0., 0., 0.],\n",
       "       [0., 0., 0.],\n",
       "       [0., 0., 0.]])"
      ]
     },
     "execution_count": 3,
     "metadata": {},
     "output_type": "execute_result"
    }
   ],
   "source": [
    " 3\n",
    " 4 3\n",
    " 0 0 1\n",
    " 1 2 2\n",
    " 0 2 3\n",
    " 1 0 4"
   ]
  },
  {
   "cell_type": "code",
   "execution_count": 13,
   "id": "5cd08150-af1b-4f62-aa59-6b594242e345",
   "metadata": {},
   "outputs": [
    {
     "data": {
      "text/plain": [
       "0.0"
      ]
     },
     "execution_count": 13,
     "metadata": {},
     "output_type": "execute_result"
    }
   ],
   "source": [
    "mat = np.zeros((3,3))\n",
    "mat[0][0]"
   ]
  },
  {
   "cell_type": "code",
   "execution_count": 30,
   "id": "d6e01b2a-b196-4217-b4e4-a2fe7330e858",
   "metadata": {},
   "outputs": [],
   "source": [
    "bag = [0,0,1,1,2]\n",
    "a = bag.sort()\n",
    "del a"
   ]
  },
  {
   "cell_type": "code",
   "execution_count": 36,
   "id": "98246bf7-1436-43b2-a746-2bee1b565b0f",
   "metadata": {},
   "outputs": [
    {
     "data": {
      "text/plain": [
       "2.0"
      ]
     },
     "execution_count": 36,
     "metadata": {},
     "output_type": "execute_result"
    }
   ],
   "source": [
    "round(10/4,0)"
   ]
  },
  {
   "cell_type": "code",
   "execution_count": 45,
   "id": "03c58b5b-0c18-4ffe-a24f-7a030fdc983d",
   "metadata": {},
   "outputs": [
    {
     "name": "stdin",
     "output_type": "stream",
     "text": [
      " 5\n",
      " 1\n",
      " 5\n",
      " 0\n",
      " 3\n",
      " 5\n"
     ]
    },
    {
     "name": "stdout",
     "output_type": "stream",
     "text": [
      "3\n"
     ]
    }
   ],
   "source": [
    "n_bag = int(input())\n",
    "bag = []\n",
    "for i in range(n_bag):\n",
    "    bag.append(int(input()))\n",
    "n = 0\n",
    "while sum(bag) !=0:\n",
    "    min_num = bag.copy()\n",
    "    while min(min_num) == 0:\n",
    "        min_num.remove(0)\n",
    "    min_num = min(min_num)\n",
    "    \n",
    "    for i,item in enumerate(bag):\n",
    "        if item!=0:\n",
    "            if item % min_num !=0:\n",
    "                item-= round(item/min_num,0)*min_num\n",
    "            else:\n",
    "                item = 0\n",
    "            bag[i] = item\n",
    "            n+=1\n",
    "\n",
    "print(n-1)\n"
   ]
  },
  {
   "cell_type": "code",
   "execution_count": 101,
   "id": "b695f189-5497-443c-886d-090dabcf46fc",
   "metadata": {},
   "outputs": [],
   "source": [
    "#n = int(input())\n",
    "#bag = []\n",
    "\n",
    "class Bag_solution:\n",
    "    def __init__(self):\n",
    "        self.n = int(input())\n",
    "        self.bag = []\n",
    "        self.num_to_pick = 0\n",
    "        self.total_numbers = 0\n",
    "        for i in range(self.n):\n",
    "            self.bag.append(int(input()))\n",
    "        \n",
    "    def number_to_pick(self):\n",
    "        temp = self.bag.copy()\n",
    "        self.num_to_pick = min(temp)\n",
    "        \n",
    "        while self.num_to_pick == 0:\n",
    "            temp.remove(0)\n",
    "            self.num_to_pick = min(temp)\n",
    "            print('Bag status:',self.bag,'\\n')\n",
    "        print('Now,number to pick = ',self.num_to_pick,'\\n')\n",
    "            \n",
    "    def pick_from_bag(self):\n",
    "        self.number_to_pick()\n",
    "        print('Start picking','\\n')\n",
    "        for i in range(len(self.bag)):\n",
    "            if self.bag[i] !=0:\n",
    "                self.bag[i] = self.bag[i] - self.num_to_pick\n",
    "        print('Now, bags status:',self.bag,'\\n')\n",
    "        self.num_to_pick = 0\n",
    "            #print(self.num_to_pick)\n",
    "            #print(self.bag)\n",
    "            \n",
    "    def pick(self):\n",
    "        n = 0\n",
    "        while sum(self.bag)!=0:\n",
    "            n+=1\n",
    "            print('Trial:',n)\n",
    "            #self.number_to_pick()\n",
    "            self.pick_from_bag()\n",
    "            \n",
    "\n",
    "        return n\n",
    "   "
   ]
  },
  {
   "cell_type": "code",
   "execution_count": 104,
   "id": "8c9acfb7-8f0a-440c-9fb8-fa182abcdc88",
   "metadata": {},
   "outputs": [
    {
     "data": {
      "text/plain": [
       "0"
      ]
     },
     "execution_count": 104,
     "metadata": {},
     "output_type": "execute_result"
    }
   ],
   "source": [
    "a = [0,1,12,0,3,5]\n",
    "a."
   ]
  },
  {
   "cell_type": "code",
   "execution_count": 102,
   "id": "84939d90-633e-4f01-82d8-a06000de1608",
   "metadata": {},
   "outputs": [
    {
     "name": "stdin",
     "output_type": "stream",
     "text": [
      " 5\n",
      " 1\n",
      " 5\n",
      " 0\n",
      " 3\n",
      " 5\n"
     ]
    },
    {
     "name": "stdout",
     "output_type": "stream",
     "text": [
      "Trial: 1\n",
      "Bag status: [1, 5, 0, 3, 5] \n",
      "\n",
      "Now,number to pick =  1 \n",
      "\n",
      "Start picking \n",
      "\n",
      "Now, bags status: [0, 4, 0, 2, 4] \n",
      "\n",
      "Trial: 2\n",
      "Bag status: [0, 4, 0, 2, 4] \n",
      "\n",
      "Bag status: [0, 4, 0, 2, 4] \n",
      "\n",
      "Now,number to pick =  2 \n",
      "\n",
      "Start picking \n",
      "\n",
      "Now, bags status: [0, 2, 0, 0, 2] \n",
      "\n",
      "Trial: 3\n",
      "Bag status: [0, 2, 0, 0, 2] \n",
      "\n",
      "Bag status: [0, 2, 0, 0, 2] \n",
      "\n",
      "Bag status: [0, 2, 0, 0, 2] \n",
      "\n",
      "Now,number to pick =  2 \n",
      "\n",
      "Start picking \n",
      "\n",
      "Now, bags status: [0, 0, 0, 0, 0] \n",
      "\n"
     ]
    },
    {
     "data": {
      "text/plain": [
       "3"
      ]
     },
     "execution_count": 102,
     "metadata": {},
     "output_type": "execute_result"
    }
   ],
   "source": [
    "b = Bag_solution()\n",
    "b.pick()"
   ]
  },
  {
   "cell_type": "code",
   "execution_count": 84,
   "id": "26e8b57d-2b05-4c96-820f-17340beea4b0",
   "metadata": {},
   "outputs": [
    {
     "name": "stdout",
     "output_type": "stream",
     "text": [
      "0 1\n",
      "1 2\n",
      "2 3\n",
      "3 4\n",
      "4 5\n"
     ]
    }
   ],
   "source": [
    "for i, j in enumerate([1,2,3,4,5]):\n",
    "    print(i,j)"
   ]
  },
  {
   "cell_type": "code",
   "execution_count": 107,
   "id": "08377be8-a579-40ed-8a7f-2c6c2b259577",
   "metadata": {},
   "outputs": [
    {
     "name": "stdin",
     "output_type": "stream",
     "text": [
      " 6\n"
     ]
    },
    {
     "data": {
      "text/plain": [
       "8"
      ]
     },
     "execution_count": 107,
     "metadata": {},
     "output_type": "execute_result"
    }
   ],
   "source": [
    "n = int(input())\n",
    "dp = {}\n",
    "dp[0]= 1\n",
    "dp[1] = 1\n",
    "def calc_num(n):\n",
    "    for i in range(2,n):\n",
    "        dp[i] = dp[i-1]+dp[i-2]\n",
    "    return dp[i]\n",
    "\n",
    "calc_num(n)"
   ]
  },
  {
   "cell_type": "code",
   "execution_count": null,
   "id": "9734243e-da0b-42e7-8d3d-dca18b9e1e94",
   "metadata": {},
   "outputs": [],
   "source": [
    "st = input().split()\n",
    "n,k = int(st[0]), int(st[1])\n",
    "\n",
    "def money(st,k):\n",
    "  maxLength = 0\n",
    "  l,r=0,0\n",
    "  count_zero = 0\n",
    "   \n",
    "  while r < len(st):\n",
    "    if st[r] == '0':\n",
    "      count_zero += 1\n",
    "     \n",
    "    while count_zero > k:\n",
    "      if st[l] == '0':\n",
    "        count_zero -= 1\n",
    "      l += 1\n",
    "     \n",
    "    maxLength = max(maxLength, r-l+1)\n",
    "    r += 1\n",
    "     \n",
    "  return maxLength\n",
    "   \n",
    "\n",
    "lst = input().split()\n",
    "print(money(lst,k))"
   ]
  },
  {
   "cell_type": "code",
   "execution_count": null,
   "id": "8ca3899d-bb5b-4fbf-8e89-e2f74ef27cfb",
   "metadata": {},
   "outputs": [],
   "source": [
    "sticks = [i+1 for i in range(int(input()))]\n"
   ]
  }
 ],
 "metadata": {
  "kernelspec": {
   "display_name": "Python 3 (ipykernel)",
   "language": "python",
   "name": "python3"
  },
  "language_info": {
   "codemirror_mode": {
    "name": "ipython",
    "version": 3
   },
   "file_extension": ".py",
   "mimetype": "text/x-python",
   "name": "python",
   "nbconvert_exporter": "python",
   "pygments_lexer": "ipython3",
   "version": "3.12.4"
  }
 },
 "nbformat": 4,
 "nbformat_minor": 5
}
